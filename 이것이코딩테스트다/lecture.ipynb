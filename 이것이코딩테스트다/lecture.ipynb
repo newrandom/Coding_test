{
 "cells": [
  {
   "cell_type": "code",
   "execution_count": 1,
   "metadata": {},
   "outputs": [
    {
     "name": "stdout",
     "output_type": "stream",
     "text": [
      "선택 정렬 성능 측정: 3.487833023071289\n",
      "기본 정렬 라이브러리 성능 측정: 0.0006489753723144531\n"
     ]
    }
   ],
   "source": [
    "# 선택정렬 기본정렬 라이브러리의 수행시간 비교\n",
    "from random import randint\n",
    "import time\n",
    "\n",
    "## 배열에 10,000개의 정수를 삽입\n",
    "array= []\n",
    "for _ in range(10000):\n",
    "    array.append(randint(1, 100))   # 1 ~ 100 사이의 랜덤한 정수\n",
    "\n",
    "# 선택정렬 프로그램 성능 측정\n",
    "start_time = time.time()\n",
    "\n",
    "# 선택정렬 프로그램 소스코드\n",
    "for i in range(len(array)):\n",
    "    min_index = i   # 가장 작은 원소의 인덱스\n",
    "    for j in range(i + 1, len(array)):\n",
    "        if array[min_index] > array[j]:\n",
    "            min_index = j\n",
    "        \n",
    "    array[i], array[min_index] = array[min_index], array[i]     # 스와프\n",
    "\n",
    "end_time = time.time() # 측정 종료\n",
    "print('선택 정렬 성능 측정:', end_time - start_time)    # 수행시간 출력\n",
    "\n",
    "# 배열을 다시 무작위 데이터로 초기화\n",
    "array = []\n",
    "for _ in range(10000):\n",
    "    array.append(randint(1, 100))\n",
    "\n",
    "# 기본 정렬 라이브러리 성능 측정\n",
    "start_time = time.time()\n",
    "\n",
    "# 기본 정렬 라이브러리 사용\n",
    "array.sort()\n",
    "\n",
    "end_time = time.time()\n",
    "print('기본 정렬 라이브러리 성능 측정:', end_time-start_time)"
   ]
  },
  {
   "cell_type": "markdown",
   "metadata": {},
   "source": [
    "---"
   ]
  },
  {
   "cell_type": "markdown",
   "metadata": {},
   "source": [
    "# <span style='color:yellow'>그리디 알고리즘</span>"
   ]
  },
  {
   "cell_type": "markdown",
   "metadata": {},
   "source": [
    "### 예제 3-1"
   ]
  },
  {
   "cell_type": "code",
   "execution_count": 2,
   "metadata": {},
   "outputs": [
    {
     "name": "stdout",
     "output_type": "stream",
     "text": [
      "6\n"
     ]
    }
   ],
   "source": [
    "n = 1260\n",
    "count = 0\n",
    "\n",
    "# 큰 단위의 화폐부터 차례대로 확인\n",
    "coin_types = [500, 100, 50, 10]\n",
    "\n",
    "for coin in coin_types:\n",
    "    count += n // coin      # 해당 화폐로 거슬러 줄 수 있는 동전의 개수 세기\n",
    "    n %= coin       # 남은 잔액 반환\n",
    "\n",
    "print(count)\n",
    "\n",
    "## 시간복잡도는 O(4) 이다. 화폐 종류에 따라 다름"
   ]
  },
  {
   "cell_type": "markdown",
   "metadata": {},
   "source": [
    "### 실전문제 - 큰수의 법칙 (25분 소요)"
   ]
  },
  {
   "cell_type": "code",
   "execution_count": 11,
   "metadata": {},
   "outputs": [],
   "source": [
    "start = time.time()"
   ]
  },
  {
   "cell_type": "code",
   "execution_count": 20,
   "metadata": {},
   "outputs": [
    {
     "data": {
      "text/plain": [
       "46"
      ]
     },
     "execution_count": 20,
     "metadata": {},
     "output_type": "execute_result"
    }
   ],
   "source": [
    "import sys\n",
    "\n",
    "def solution(N, M, K):\n",
    "    # array = map(int, sys.stdin.readline().strip())\n",
    "    array = list(map(int, input().split()))\n",
    "    array.sort(reverse=True)\n",
    "\n",
    "    max_num = 0\n",
    "    lim_count = 0\n",
    "\n",
    "    # === 최대값이 여러개인 경우 === #\n",
    "    if array.count(max(array)) > 1:\n",
    "        return max(array) * M\n",
    "    \n",
    "    # === 최대값이 1개인 경우 === #\n",
    "    for i in range(M):\n",
    "        if lim_count != K:\n",
    "            max_num += max(array)\n",
    "            lim_count += 1\n",
    "\n",
    "        else:\n",
    "            max_num += array[1]\n",
    "            lim_count = 0\n",
    "\n",
    "    return max_num\n",
    "\n",
    "N, M, K = map(int, input().split())\n",
    "solution(N,M,K)"
   ]
  },
  {
   "cell_type": "code",
   "execution_count": 21,
   "metadata": {},
   "outputs": [],
   "source": [
    "end = time.time()"
   ]
  },
  {
   "cell_type": "markdown",
   "metadata": {},
   "source": [
    "### 해설"
   ]
  },
  {
   "cell_type": "code",
   "execution_count": null,
   "metadata": {},
   "outputs": [],
   "source": [
    "n,m,k = map(int, input().split())\n",
    "data = list(map(int, input().split()))\n",
    "\n",
    "data.sort()             # 입력받은 수 정렬\n",
    "first = data[n-1]       # 가장 큰수\n",
    "second = data[n-2]      # 가장 작은 수\n",
    "\n",
    "result = 0\n",
    "\n",
    "while True:\n",
    "    for i in range(k):      # 가장 큰 수를 k 번 더하기\n",
    "        if m == 0:          # m 이 0이라면 반복문 탈출\n",
    "            break\n",
    "        result += first\n",
    "        m -= 1              # 더할 때마다 1씩 빼기\n",
    "    if m == 0:              # m 이 0이라면 반복문 탈출\n",
    "        break\n",
    "    result += second        # 두번째로 큰 수를 한 번 더하기\n",
    "    m -= 1                  # 더할 때마다 1씩 빼기\n",
    "\n",
    "print(result)"
   ]
  },
  {
   "cell_type": "code",
   "execution_count": null,
   "metadata": {},
   "outputs": [],
   "source": [
    "# 수열의 규칙을 이용한 계산\n",
    "\n",
    "n,m,k = map(int, input().split())\n",
    "data = list(map(int, input().split()))\n",
    "\n",
    "data.sort()\n",
    "first = data[n-1]\n",
    "second = data[n-2]\n",
    "\n",
    "# 가장 큰 수가 더해지는 횟수 계산\n",
    "count = int(m / (k+1)) * K\n",
    "count += m % (k + 1)\n",
    "\n",
    "result = 0\n",
    "result += (count) * first   # 가장 큰 수 더하기\n",
    "result += (m - count) * second      # 두번째로 큰 수 더하기\n",
    "\n",
    "print(result)"
   ]
  },
  {
   "cell_type": "markdown",
   "metadata": {},
   "source": [
    "---\n",
    "### 실전문제 3 - 숫자카드 게임"
   ]
  },
  {
   "cell_type": "code",
   "execution_count": null,
   "metadata": {},
   "outputs": [],
   "source": [
    "import time\n",
    "start = time.time()"
   ]
  },
  {
   "cell_type": "code",
   "execution_count": null,
   "metadata": {},
   "outputs": [],
   "source": []
  },
  {
   "cell_type": "code",
   "execution_count": null,
   "metadata": {},
   "outputs": [],
   "source": [
    "end = time.time()\n",
    "\n",
    "(end - start) / 60"
   ]
  }
 ],
 "metadata": {
  "kernelspec": {
   "display_name": "Python 3.10.4 64-bit",
   "language": "python",
   "name": "python3"
  },
  "language_info": {
   "codemirror_mode": {
    "name": "ipython",
    "version": 3
   },
   "file_extension": ".py",
   "mimetype": "text/x-python",
   "name": "python",
   "nbconvert_exporter": "python",
   "pygments_lexer": "ipython3",
   "version": "3.10.4"
  },
  "orig_nbformat": 4,
  "vscode": {
   "interpreter": {
    "hash": "aee8b7b246df8f9039afb4144a1f6fd8d2ca17a180786b69acc140d282b71a49"
   }
  }
 },
 "nbformat": 4,
 "nbformat_minor": 2
}
