{
 "cells": [
  {
   "cell_type": "markdown",
   "metadata": {},
   "source": [
    "# 신고 결과 받기\n",
    "https://school.programmers.co.kr/learn/courses/30/lessons/92334"
   ]
  },
  {
   "cell_type": "code",
   "execution_count": null,
   "metadata": {},
   "outputs": [],
   "source": [
    "# 한번에 한명의 유저를 신고\n",
    "# 서로 다른 유저를 계속 신고\n",
    "# 한 유저에 중복 신고 가능하지만 신고횟수는 1회로 처리\n",
    "# k번 이상 신고된 유저는 게시판 정지\n",
    "# 정지된 유저를 신고한 유저에게 정지사실을 메일로 발송\n",
    "\n",
    "# type report  = list, element = str\n",
    "\n",
    "def solution(id_list, report, k):\n",
    "    reported_dic={}\n",
    "    result = {}\n",
    "    answer = {}\n",
    "\n",
    "    for id in id_list:      \n",
    "        reported_dic[id] = 0  # 초기값 : id 마다 신고 받은 횟수를 0 으로 설정\n",
    "        result[id] = []     # 신고한 유저가 누굴 신고했는지 메모\n",
    "        answer[id] = 0      # 신고한 유저가 받을 메일 초기화\n",
    "\n",
    "    # ============= #\n",
    "    for i in report:        \n",
    "        r, rd = i.split()       # 신고한 유저, 신고받은 유저 나누기\n",
    "        if rd in result[r]:     # 중복신고 가능이지만, 1회로 처리됨.\n",
    "            continue\n",
    "        else:\n",
    "            result[r].append(rd)    # 새로운 유저를 신고했다면, 신고한 유저의 리스트에 신고받은 유저를 집어넣기.\n",
    "            reported_dic[rd] += 1     # 신고 받은횟수 추가\n",
    "\n",
    "    # ============== #\n",
    "    for v in reported_dic:\n",
    "        if reported_dic[v] >= k:      # 정지 횟수 이상인 유저(v)를 검출\n",
    "\n",
    "            for i in answer:            # 메일받을 유저의 목록을 돌면서\n",
    "                if v in result[i]:      # 신고자의 피신고자 목록에 v 유저가 있으면,\n",
    "                    answer[i] += 1      # 신고자가 받을 메일의 개수를 +1 한다.\n",
    "\n",
    "\n",
    "    return list(answer.values())"
   ]
  },
  {
   "cell_type": "code",
   "execution_count": null,
   "metadata": {},
   "outputs": [],
   "source": []
  }
 ],
 "metadata": {
  "kernelspec": {
   "display_name": "Python 3.8.13 ('boj')",
   "language": "python",
   "name": "python3"
  },
  "language_info": {
   "name": "python",
   "version": "3.8.13"
  },
  "orig_nbformat": 4,
  "vscode": {
   "interpreter": {
    "hash": "f20bd9dfb3ffd4e1b35b0b2c8bb1feeb4a0c0581290817d49ddef35e5a634da8"
   }
  }
 },
 "nbformat": 4,
 "nbformat_minor": 2
}
