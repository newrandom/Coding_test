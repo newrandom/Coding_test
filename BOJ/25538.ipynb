{
 "cells": [
  {
   "cell_type": "markdown",
   "metadata": {},
   "source": [
    "# 입력받는 인수\n",
    "- (길드 수) (쿼리 수) : 길드 수(2 <= N <= 300,000), 쿼리 수 (1<=Q<=300,000)\n",
    "- (길드별 인원 수) : 1 <= Gi <= 10^9\n",
    "- 1 (길드) (추가인원)\n",
    "- 2 (길드) (탈퇴인원)\n",
    "- 3 (길드_1) (길드_2) : 동맹을 맺을 길드(1, 2) 지정\n",
    "- 4 (길드_1) (길드_2) : 길드(1 ~ 2) 까지의 인원 수 출력"
   ]
  },
  {
   "cell_type": "markdown",
   "metadata": {},
   "source": [
    "### 길드가 한번 동맹을 맺으면 풀리지 않음\n",
    "- 1,2,3 길드가 있을 때,\n",
    "- 1, 2가 동맹을 맺으면\n",
    "- 1, 3이 동맹을 맺어도 같은 동맹으로 잡힘"
   ]
  },
  {
   "cell_type": "code",
   "execution_count": 1,
   "metadata": {},
   "outputs": [],
   "source": [
    "union = ''      # 동맹\n",
    "guild = {}      # 길드\n",
    "query = 0       # 쿼리 개수"
   ]
  },
  {
   "cell_type": "code",
   "execution_count": 3,
   "metadata": {},
   "outputs": [
    {
     "data": {
      "text/plain": [
       "{1: 0, 2: 0, 3: 0, 4: 0}"
      ]
     },
     "execution_count": 3,
     "metadata": {},
     "output_type": "execute_result"
    }
   ],
   "source": [
    "guild = {i:0 for i in range(1,5)}\n",
    "guild"
   ]
  },
  {
   "cell_type": "code",
   "execution_count": 33,
   "metadata": {},
   "outputs": [],
   "source": [
    "def Guild_Query(guild, query):\n",
    "    print(f\"길드 개수 : {guild}\")\n",
    "    print(f\"쿼리 개수 : {query}\")\n",
    "    guild = {i:0 for i in range(1, guild+1)}\n",
    "    print(guild)"
   ]
  },
  {
   "cell_type": "code",
   "execution_count": 34,
   "metadata": {},
   "outputs": [],
   "source": [
    "guild, query = map(int, input().split())"
   ]
  },
  {
   "cell_type": "code",
   "execution_count": 35,
   "metadata": {},
   "outputs": [
    {
     "name": "stdout",
     "output_type": "stream",
     "text": [
      "길드 개수 : 4\n",
      "쿼리 개수 : 6\n",
      "{1: 0, 2: 0, 3: 0, 4: 0}\n"
     ]
    }
   ],
   "source": [
    "Guild_Query(guild, query)"
   ]
  },
  {
   "cell_type": "code",
   "execution_count": 31,
   "metadata": {},
   "outputs": [],
   "source": [
    "def people(*args):\n",
    "    print(type(args))"
   ]
  },
  {
   "cell_type": "code",
   "execution_count": null,
   "metadata": {},
   "outputs": [],
   "source": [
    "guild, query = map(int, input().split())\n",
    "\n",
    "def Guild_Query(guild, query):\n",
    "    guild = {i:0 for i in range(1, guild+1)}\n",
    "\n",
    "    people = map(int, input().split())"
   ]
  },
  {
   "cell_type": "code",
   "execution_count": 37,
   "metadata": {},
   "outputs": [],
   "source": [
    "test = {1:0, 2:0}\n",
    "for i in test:\n",
    "    test[i] = 2"
   ]
  },
  {
   "cell_type": "code",
   "execution_count": null,
   "metadata": {},
   "outputs": [],
   "source": []
  }
 ],
 "metadata": {
  "kernelspec": {
   "display_name": "Python 3.9.10 64-bit",
   "language": "python",
   "name": "python3"
  },
  "language_info": {
   "codemirror_mode": {
    "name": "ipython",
    "version": 3
   },
   "file_extension": ".py",
   "mimetype": "text/x-python",
   "name": "python",
   "nbconvert_exporter": "python",
   "pygments_lexer": "ipython3",
   "version": "3.9.10"
  },
  "orig_nbformat": 4,
  "vscode": {
   "interpreter": {
    "hash": "d7ac95f10d229aee96d346d0c6bed4f6f163fea85a34404fd93c14a9a16aa0a3"
   }
  }
 },
 "nbformat": 4,
 "nbformat_minor": 2
}
