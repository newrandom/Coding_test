{
 "cells": [
  {
   "cell_type": "markdown",
   "metadata": {},
   "source": [
    "# 입력받는 인수\n",
    "- (길드 수) (쿼리 수) : 길드 수(2 <= N <= 300,000), 쿼리 수 (1<=Q<=300,000)\n",
    "- (길드별 인원 수) : 1 <= Gi <= 10^9\n",
    "- 1 (길드) (추가인원)\n",
    "- 2 (길드) (탈퇴인원)\n",
    "- 3 (길드_1) (길드_2) : 동맹을 맺을 길드(1, 2) 지정\n",
    "- 4 (길드_1) (길드_2) : 길드(1 ~ 2) 까지의 인원 수 출력"
   ]
  },
  {
   "cell_type": "markdown",
   "metadata": {},
   "source": [
    "### 길드가 한번 동맹을 맺으면 풀리지 않음\n",
    "- 1,2,3 길드가 있을 때,\n",
    "- 1, 2가 동맹을 맺으면\n",
    "- 1, 3이 동맹을 맺어도 같은 동맹으로 잡힘"
   ]
  },
  {
   "cell_type": "code",
   "execution_count": 1,
   "metadata": {},
   "outputs": [],
   "source": [
    "union = ''      # 동맹\n",
    "guild = {}      # 길드\n",
    "query = 0       # 쿼리 개수"
   ]
  },
  {
   "cell_type": "code",
   "execution_count": 3,
   "metadata": {},
   "outputs": [
    {
     "data": {
      "text/plain": [
       "{1: 0, 2: 0, 3: 0, 4: 0}"
      ]
     },
     "execution_count": 3,
     "metadata": {},
     "output_type": "execute_result"
    }
   ],
   "source": [
    "guild = {i:0 for i in range(1,5)}\n",
    "guild"
   ]
  },
  {
   "cell_type": "code",
   "execution_count": 33,
   "metadata": {},
   "outputs": [],
   "source": [
    "def Guild_Query(guild, query):\n",
    "    print(f\"길드 개수 : {guild}\")\n",
    "    print(f\"쿼리 개수 : {query}\")\n",
    "    guild = {i:0 for i in range(1, guild+1)}\n",
    "    print(guild)"
   ]
  },
  {
   "cell_type": "code",
   "execution_count": 34,
   "metadata": {},
   "outputs": [],
   "source": [
    "guild, query = map(int, input().split())"
   ]
  },
  {
   "cell_type": "code",
   "execution_count": 35,
   "metadata": {},
   "outputs": [
    {
     "name": "stdout",
     "output_type": "stream",
     "text": [
      "길드 개수 : 4\n",
      "쿼리 개수 : 6\n",
      "{1: 0, 2: 0, 3: 0, 4: 0}\n"
     ]
    }
   ],
   "source": [
    "Guild_Query(guild, query)"
   ]
  },
  {
   "cell_type": "code",
   "execution_count": 31,
   "metadata": {},
   "outputs": [],
   "source": [
    "def people(*args):\n",
    "    print(type(args))"
   ]
  },
  {
   "cell_type": "code",
   "execution_count": null,
   "metadata": {},
   "outputs": [],
   "source": [
    "test = {1:0, 2:0}\n",
    "for i in test:\n",
    "    test[i] = 2"
   ]
  },
  {
   "cell_type": "code",
   "execution_count": null,
   "metadata": {},
   "outputs": [
    {
     "data": {
      "text/plain": [
       "0"
      ]
     },
     "metadata": {},
     "output_type": "display_data"
    }
   ],
   "source": [
    "test = {0:[1,2,3]}\n",
    "max(test.keys())"
   ]
  },
  {
   "cell_type": "code",
   "execution_count": null,
   "metadata": {},
   "outputs": [],
   "source": [
    "test = {0:[]}"
   ]
  },
  {
   "cell_type": "code",
   "execution_count": null,
   "metadata": {},
   "outputs": [],
   "source": [
    "test[0].extend([1,2,3,4])"
   ]
  },
  {
   "cell_type": "code",
   "execution_count": null,
   "metadata": {},
   "outputs": [
    {
     "data": {
      "text/plain": [
       "True"
      ]
     },
     "metadata": {},
     "output_type": "display_data"
    }
   ],
   "source": [
    "3 in test[0]"
   ]
  },
  {
   "cell_type": "markdown",
   "metadata": {},
   "source": [
    "---"
   ]
  },
  {
   "cell_type": "code",
   "execution_count": 98,
   "metadata": {},
   "outputs": [],
   "source": [
    "def Guild_Query(guild, query):\n",
    "    guild = {i:0 for i in range(1, guild+1)}\n",
    "    # print('초기 길드 딕셔너리 : {}'.format(guild))\n",
    "\n",
    "    people = list(map(int, input().split()))\n",
    "    # print('초기 길드별 인원 수 : {}'.format(people))\n",
    "\n",
    "    for _ in guild:\n",
    "        guild[_] = people[_ -1]\n",
    "\n",
    "    union = {}      # N개의 동맹이 존재함!\n",
    "\n",
    "    for _ in range(query):\n",
    "        idx, a, b = map(int, input().split())\n",
    "\n",
    "        if idx == 1:\n",
    "            guild[a] += b\n",
    "            # print(f'guild[{a}]에서 {b} 명을 추가했습니다. : ', guild)\n",
    "\n",
    "        if idx == 2:\n",
    "            guild[a] -= b\n",
    "            # print(f'guild[{a}]에서 {b} 명을 제거했습니다. : ', guild)\n",
    "\n",
    "        if idx == 3:\n",
    "            if union == {}:\n",
    "                union[0] = [a, b]\n",
    "                # print('첫 동맹을 생성하였습니다. : ', union)\n",
    "                continue       # 첫 동맹 길드 정보를 입력하고 다음 쿼리로 이동\n",
    "\n",
    "            for i in union:\n",
    "                if a in union[i]:\n",
    "                    union[i].append(b)\n",
    "                    # print(f'{b}를 union[{i}]에 추가합니다 : {union[i]}')\n",
    "                \n",
    "                elif b in union[i]:       ## if 를 쓰면 중복될 가능성이 있다. >> elif로 수정\n",
    "                    union[i].append(a)\n",
    "                    # print(f'{a}를 union[{i}]에 추가합니다 : {union[i]}')\n",
    "\n",
    "                else:\n",
    "                    union[max(union.keys())+1] = [a, b]     # union의 keys 중 최대값 + 1 의 키의 value를 [a,b]로 설정한다.\n",
    "                    # print(f'새로운 동맹{max(union.keys())+1}이 생성 되었습니다. : {union[max(union.keys())+1]}')\n",
    "\n",
    "        if idx == 4:\n",
    "            answer = 0          # 초기값\n",
    "            for i in union:     ## i : 동맹 명\n",
    "                if a in union[i] and b in union[i]:     # a, b 가 어느 한 동맹에 속한다면,\n",
    "                    # print('동맹 명 : ', i, union[i])\n",
    "                    for j in union[i]:          ## j : 길드 명\n",
    "                        answer += guild[j]\n",
    "                        # print('길드명 : ' , guild[j])\n",
    "                        # print(f'{guild[j]} 명이 축제에 참여합니다. 총 인원 : {answer}')\n",
    "\n",
    "                        if j == b:\n",
    "                            break\n",
    "                        \n",
    "                    # print(answer)\n",
    "\n",
    "            if answer == 0:     # 동맹 길드에 들지 않았다면,\n",
    "                answer = -1     # -1 로 반환\n",
    "\n",
    "            print(answer)"
   ]
  },
  {
   "cell_type": "code",
   "execution_count": 100,
   "metadata": {},
   "outputs": [
    {
     "name": "stdout",
     "output_type": "stream",
     "text": [
      "5\n",
      "10\n",
      "7\n"
     ]
    }
   ],
   "source": [
    "guild, query = map(int,input().split())\n",
    "Guild_Query(guild, query)"
   ]
  },
  {
   "cell_type": "code",
   "execution_count": 106,
   "metadata": {},
   "outputs": [],
   "source": [
    "def solution():\n",
    "    guild, query = map(int, input().split())\n",
    "    \n",
    "    guild_dic = {i:0 for i in range(1, guild+1)}\n",
    "    people = list(map(int, input().split()))\n",
    "\n",
    "    for _ in guild_dic:\n",
    "        guild_dic[_] = people[_ -1]\n",
    "\n",
    "    union = {}\n",
    "\n",
    "    for _ in range(query):\n",
    "        idx, a, b = map(int, input().split())\n",
    "\n",
    "        if idx == 1:\n",
    "            guild_dic[a] += b\n",
    "            continue\n",
    "\n",
    "        if idx == 2:\n",
    "            guild_dic[a] -= b\n",
    "            continue\n",
    "\n",
    "        if idx == 3:\n",
    "            if union == {}:\n",
    "                union[0] = [a, b]\n",
    "                continue\n",
    "\n",
    "            for i in union:\n",
    "                if a in union[i]:\n",
    "                    union[i].append(b)\n",
    "                \n",
    "                # elif b in union[i]:\n",
    "                #     union[i].append(a)\n",
    "\n",
    "                else:\n",
    "                    union[max(union.keys())+1] = [a, b]\n",
    "\n",
    "        if idx == 4:\n",
    "            answer = 0\n",
    "            for i in union:\n",
    "                if a in union[i] and b in union[i]:\n",
    "                    for j in union[i]:\n",
    "                        answer += guild_dic[j]\n",
    "\n",
    "                        if j == b:\n",
    "                            break\n",
    "\n",
    "            if answer == 0:\n",
    "                answer = -1\n",
    "\n",
    "            print(answer)"
   ]
  },
  {
   "cell_type": "code",
   "execution_count": 107,
   "metadata": {},
   "outputs": [
    {
     "name": "stdout",
     "output_type": "stream",
     "text": [
      "5\n",
      "10\n",
      "7\n"
     ]
    }
   ],
   "source": [
    "solution()"
   ]
  },
  {
   "cell_type": "markdown",
   "metadata": {},
   "source": [
    "---\n",
    "# 런타임에러(Error) 가 발생 > 질문 게시판에 게시"
   ]
  }
 ],
 "metadata": {
  "kernelspec": {
   "display_name": "Python 3.9.10 64-bit",
   "language": "python",
   "name": "python3"
  },
  "language_info": {
   "codemirror_mode": {
    "name": "ipython",
    "version": 3
   },
   "file_extension": ".py",
   "mimetype": "text/x-python",
   "name": "python",
   "nbconvert_exporter": "python",
   "pygments_lexer": "ipython3",
   "version": "3.9.10"
  },
  "orig_nbformat": 4,
  "vscode": {
   "interpreter": {
    "hash": "d7ac95f10d229aee96d346d0c6bed4f6f163fea85a34404fd93c14a9a16aa0a3"
   }
  }
 },
 "nbformat": 4,
 "nbformat_minor": 2
}
