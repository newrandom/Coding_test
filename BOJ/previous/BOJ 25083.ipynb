{
  "nbformat": 4,
  "nbformat_minor": 0,
  "metadata": {
    "colab": {
      "name": "Untitled0.ipynb",
      "provenance": [],
      "authorship_tag": "ABX9TyNu7x6K3F6+DOFKbi5E9JPi",
      "include_colab_link": true
    },
    "kernelspec": {
      "name": "python3",
      "display_name": "Python 3"
    },
    "language_info": {
      "name": "python"
    }
  },
  "cells": [
    {
      "cell_type": "markdown",
      "metadata": {
        "id": "view-in-github",
        "colab_type": "text"
      },
      "source": [
        "<a href=\"https://colab.research.google.com/github/newrandom/baekjoon/blob/main/BOJ%2025083.ipynb\" target=\"_parent\"><img src=\"https://colab.research.google.com/assets/colab-badge.svg\" alt=\"Open In Colab\"/></a>"
      ]
    },
    {
      "cell_type": "code",
      "execution_count": 11,
      "metadata": {
        "colab": {
          "base_uri": "https://localhost:8080/"
        },
        "id": "dA2duWDYZWid",
        "outputId": "85eacfd9-fff2-4a13-9583-0fb0185bd967"
      },
      "outputs": [
        {
          "output_type": "stream",
          "name": "stdout",
          "text": [
            "         ,r'\"7\n",
            "r`-_   ,'  ,/\n",
            " \\. \". L_r'\n",
            "   `~\\/\n",
            "      |\n",
            "      |\n"
          ]
        }
      ],
      "source": [
        "# BOJ 25083\n",
        "\n",
        "print(\"         ,r'\\\"7\")\n",
        "print(\"r`-_   ,'  ,/\")\n",
        "print(\" \\. \\\". L_r'\")\n",
        "print(\"   `~\\/\")\n",
        "print(\"      |\")\n",
        "print(\"      |\")"
      ]
    }
  ]
}