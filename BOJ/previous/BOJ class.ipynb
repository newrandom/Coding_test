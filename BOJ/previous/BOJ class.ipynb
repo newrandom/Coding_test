{
 "cells": [
  {
   "cell_type": "code",
   "execution_count": 1,
   "metadata": {},
   "outputs": [
    {
     "name": "stdout",
     "output_type": "stream",
     "text": [
      "17\n",
      "2\n"
     ]
    }
   ],
   "source": [
    "#2581 정답      메모리 30840 // 시간 736\n",
    "M = int(input())    # 시작값\n",
    "N = int(input())    # 마지막 값\n",
    "\n",
    "p_num_list = []      # 소수를 담을 빈 리스트\n",
    "\n",
    "def p_num(int):      # 소수찾기 함수\n",
    "    if int == 1:        # 1은 소수가 아님\n",
    "        return False\n",
    "\n",
    "    elif int == 2:      # 2는 소수\n",
    "        return int\n",
    "    \n",
    "    for i in range(2, int):     # 주어진 값을 2부터 int 앞까지의 값으로 나눴을 때, \n",
    "        if int % i == 0:        # 나누어 떨어지면\n",
    "            return False        # 소수가 아니다\n",
    "    \n",
    "    return int                  # 나누어 떨어지지 않으면 int를 반환한다.\n",
    "\n",
    "for num in range(M, N+1):       # M 부터 N까지의 범위에서 루프\n",
    "    if p_num(num) == False:     # 소수찾기 함수의 값이 False이면\n",
    "        continue                # 다음으로 이어간다.\n",
    "\n",
    "    else:                       # int를 반환 받으면\n",
    "        p_num_list.append(p_num(num))   # 소수를 담는 리스트에 해당 값을 넣는다.\n",
    "\n",
    "if len(p_num_list) == 0:        # 소수 리스트의 길이가 0 (아무것도 없을때)\n",
    "    print(-1)                   # -1을 출력한다.\n",
    "\n",
    "else:                           # 소수 리스트의 길이가 0보다 크면 \n",
    "    print(sum(p_num_list))      # 소수 리스트 값들의 합을 출력하고,\n",
    "    print(min(p_num_list))      # 소수 리스트의 최소값을 출력한다."
   ]
  },
  {
   "cell_type": "code",
   "execution_count": null,
   "metadata": {},
   "outputs": [],
   "source": []
  }
 ],
 "metadata": {
  "interpreter": {
   "hash": "87ca1d6ab9f465f53e65f605edcd7bd5e587820eac99c13303a6570f5c29f59a"
  },
  "kernelspec": {
   "display_name": "Python 3.8.11 ('ds_study')",
   "language": "python",
   "name": "python3"
  },
  "language_info": {
   "codemirror_mode": {
    "name": "ipython",
    "version": 3
   },
   "file_extension": ".py",
   "mimetype": "text/x-python",
   "name": "python",
   "nbconvert_exporter": "python",
   "pygments_lexer": "ipython3",
   "version": "3.8.11"
  },
  "orig_nbformat": 4
 },
 "nbformat": 4,
 "nbformat_minor": 2
}
